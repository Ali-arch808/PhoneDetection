{
 "cells": [
  {
   "cell_type": "code",
   "execution_count": null,
   "id": "6d1481ce",
   "metadata": {},
   "outputs": [],
   "source": [
    "import numpy as np\n",
    "import tensorflow as tf\n",
    "from tensorflow import keras\n",
    "from tensorflow.keras.models import Sequential\n",
    "from tensorflow.keras.layers import Dense, Dropout, Conv2D, MaxPooling2D, Flatten, BatchNormalization\n",
    "from tensorflow.keras.optimizers import RMSprop, Adam, SGD\n",
    "from tensorflow.keras.preprocessing import image\n",
    "from IPython.display import Image\n",
    "import matplotlib.pyplot as plt\n",
    "import os"
   ]
  },
  {
   "cell_type": "code",
   "execution_count": null,
   "id": "cf1da3d3",
   "metadata": {},
   "outputs": [],
   "source": [
    "DATADIR = 'train0,1'\n",
    "\n",
    "CATEGORIES = ['n', 'p']\n",
    "\n",
    "training_data = []\n",
    "WIDTH = 50\n",
    "HIGHT = 150\n",
    "img_size = HIGHT * WIDTH"
   ]
  },
  {
   "cell_type": "code",
   "execution_count": null,
   "id": "89060507",
   "metadata": {},
   "outputs": [],
   "source": [
    "def create_training_data():\n",
    "    for category in CATEGORIES:\n",
    "        path = os.path.join(DATADIR, category)  # path to each class dir\n",
    "        class_num = CATEGORIES.index(category)\n",
    "        for img in os.listdir(path):\n",
    "            try:\n",
    "                img_array = image.load_img(os.path.join(path, img), grayscale=True, target_size=(HIGHT, WIDTH))\n",
    "                training_data.append([img_array, class_num])\n",
    "            except:\n",
    "                pass\n",
    "            \n",
    "\n",
    "create_training_data()"
   ]
  },
  {
   "cell_type": "code",
   "execution_count": null,
   "id": "2b80d173",
   "metadata": {},
   "outputs": [],
   "source": [
    "import random\n",
    "\n",
    "random.shuffle(training_data)\n",
    "random.shuffle(testing_data)\n",
    "train_images = []\n",
    "train_labels = []\n",
    "for i in range(len(training_data)):\n",
    "    train_images.append(image.img_to_array(training_data[i][0]))\n",
    "    train_labels.append(training_data[i][1])\n",
    "random.shuffle(testing_data)\n",
    "test_images = []\n",
    "test_labels = []\n",
    "for i in range(len(testing_data)):\n",
    "    test_images.append(image.img_to_array(testing_data[i][0]))\n",
    "    test_labels.append(testing_data[i][1])"
   ]
  },
  {
   "cell_type": "code",
   "execution_count": null,
   "id": "1ef7b559",
   "metadata": {},
   "outputs": [],
   "source": [
    "from tensorflow.keras import backend as K"
   ]
  },
  {
   "cell_type": "code",
   "execution_count": null,
   "id": "4378b502",
   "metadata": {},
   "outputs": [],
   "source": [
    "hight = 150\n",
    "width = 50\n",
    "\n",
    "\n",
    "train_images = np.array(train_images)\n",
    "test_images = np.array(test_images)"
   ]
  },
  {
   "cell_type": "code",
   "execution_count": null,
   "id": "5c2a25b6",
   "metadata": {},
   "outputs": [],
   "source": [
    "if K.image_data_format() == 'channels_first':\n",
    "    train_images = train_images.reshape(train_images.shape[0], 1, hight, width)\n",
    "    test_images = test_images.reshape(test_images.shape[0], 1, hight, width)\n",
    "    input_shape = (1, hight, width)\n",
    "else:\n",
    "    train_images = train_images.reshape(train_images.shape[0], hight, width, 1)\n",
    "    test_images = test_images.reshape(test_images.shape[0], hight, width, 1)\n",
    "    input_shape = (hight, width, 1)\n",
    "\n",
    "train_images = train_images.astype('float32')\n",
    "test_images = test_images.astype('float32')\n",
    "train_images /= 255\n",
    "test_images /= 255"
   ]
  },
  {
   "cell_type": "code",
   "execution_count": null,
   "id": "00bd83cb",
   "metadata": {},
   "outputs": [],
   "source": [
    "model = Sequential()\n",
    "\n",
    "model.add(Conv2D(32, kernel_size=(3, 3),\n",
    "                 activation='relu',\n",
    "                 input_shape=input_shape))\n",
    "# 64 3x3 kernels \n",
    "model.add(Conv2D(64, (3, 3), activation='relu'))\n",
    "# Reduce by taking the max of each 2x2 block\n",
    "model.add(MaxPooling2D(pool_size=(2, 2)))\n",
    "# Dropout to avoid overfitting\n",
    "model.add(Dropout(0.25))\n",
    "# 64 3x3 kernels \n",
    "model.add(Conv2D(64, (3, 3), activation='relu'))\n",
    "# Flatten the results to one dimension for passing into out final layer\n",
    "model.add(Flatten())\n",
    "# A hidden layer to learn with\n",
    "model.add(Dense(128, activation='relu'))\n",
    "# A hidden layer to learn with\n",
    "model.add(Dense(128, activation='relu'))\n",
    "# Another dropout\n",
    "model.add(Dropout(0.5))\n",
    "# Final categorization from 0-1 with softmax\n",
    "model.add(Dense(2))\n",
    "model.add(keras.layers.Softmax(axis=-1))\n",
    "model.compile(loss=keras.losses.categorical_crossentropy,\n",
    "\n",
    "              optimizer=keras.optimizers.Adam(lr=0.00001),\n",
    "              metrics=['accuracy'])"
   ]
  },
  {
   "cell_type": "code",
   "execution_count": null,
   "id": "1faca8f1",
   "metadata": {},
   "outputs": [],
   "source": [
    "model.summary()"
   ]
  },
  {
   "cell_type": "raw",
   "id": "222cd608",
   "metadata": {},
   "source": [
    "# Layer (type)                 Output Shape              Param #   \n",
    "=================================================================\n",
    "conv2d_3 (Conv2D)            (None, 148, 48, 32)       320       \n",
    "_________________________________________________________________\n",
    "conv2d_4 (Conv2D)            (None, 146, 46, 64)       18496     \n",
    "_________________________________________________________________\n",
    "max_pooling2d_1 (MaxPooling2 (None, 73, 23, 64)        0         \n",
    "_________________________________________________________________\n",
    "dropout_2 (Dropout)          (None, 73, 23, 64)        0         \n",
    "_________________________________________________________________\n",
    "conv2d_5 (Conv2D)            (None, 71, 21, 64)        36928     \n",
    "_________________________________________________________________\n",
    "flatten_1 (Flatten)          (None, 95424)             0         \n",
    "_________________________________________________________________\n",
    "dense_3 (Dense)              (None, 128)               12214400  \n",
    "_________________________________________________________________\n",
    "dense_4 (Dense)              (None, 128)               16512     \n",
    "_________________________________________________________________\n",
    "dropout_3 (Dropout)          (None, 128)               0         \n",
    "_________________________________________________________________\n",
    "dense_5 (Dense)              (None, 2)                 258       \n",
    "_________________________________________________________________\n",
    "softmax_1 (Softmax)          (None, 2)                 0         \n",
    "=================================================================\n",
    "Total params: 12,286,914\n",
    "Trainable params: 12,286,914\n",
    "Non-trainable params: 0\n",
    "_________________________________________________________________"
   ]
  },
  {
   "cell_type": "code",
   "execution_count": null,
   "id": "fe20ce20",
   "metadata": {},
   "outputs": [],
   "source": [
    "history=model.fit(train_images , train_new_labels,\n",
    "                 batch_size=16,\n",
    "                 epochs=10,\n",
    "                 verbose=2,\n",
    "                 validation_data=(test_images,test_new_labels))"
   ]
  },
  {
   "cell_type": "raw",
   "id": "9717803c",
   "metadata": {},
   "source": [
    "Train on 7621 samples, validate on 85 samples\n",
    "Epoch 1/10\n",
    " - 27s - loss: 0.5026 - acc: 0.7440 - val_loss: 0.5779 - val_acc: 0.8000\n",
    "Epoch 2/10\n",
    " - 25s - loss: 0.1978 - acc: 0.9398 - val_loss: 0.5960 - val_acc: 0.8000\n",
    "Epoch 3/10\n",
    " - 25s - loss: 0.0857 - acc: 0.9778 - val_loss: 0.8875 - val_acc: 0.8000\n",
    "Epoch 4/10\n",
    " - 25s - loss: 0.0522 - acc: 0.9885 - val_loss: 0.6961 - val_acc: 0.8000\n",
    "Epoch 5/10\n",
    " - 25s - loss: 0.0353 - acc: 0.9928 - val_loss: 0.7574 - val_acc: 0.8588\n",
    "Epoch 6/10\n",
    " - 25s - loss: 0.0239 - acc: 0.9958 - val_loss: 1.2142 - val_acc: 0.8000\n",
    "Epoch 7/10\n",
    " - 25s - loss: 0.0184 - acc: 0.9962 - val_loss: 0.9365 - val_acc: 0.8000\n",
    "Epoch 8/10\n",
    " - 25s - loss: 0.0159 - acc: 0.9962 - val_loss: 0.7681 - val_acc: 0.8118\n",
    "Epoch 9/10\n",
    " - 25s - loss: 0.0126 - acc: 0.9965 - val_loss: 0.4133 - val_acc: 0.8941\n",
    "Epoch 10/10\n",
    " - 25s - loss: 0.0080 - acc: 0.9980 - val_loss: 0.9111 - val_acc: 0.8353\n"
   ]
  },
  {
   "cell_type": "code",
   "execution_count": null,
   "id": "9c653086",
   "metadata": {},
   "outputs": [],
   "source": [
    "score=model.evaluate(test_images,test_new_labels , verbose=0)\n",
    "print('Test loss :',score[0])\n",
    "print('Test accuracy :',score[1]) \n",
    "model.save('PhoneDetection-CNN_3_April.h5')"
   ]
  },
  {
   "cell_type": "raw",
   "id": "0c135703",
   "metadata": {},
   "source": [
    "Test loss : 0.911090542288\n",
    "Test accuracy : 0.835294120452"
   ]
  }
 ],
 "metadata": {
  "kernelspec": {
   "display_name": "Python 3",
   "language": "python",
   "name": "python3"
  },
  "language_info": {
   "codemirror_mode": {
    "name": "ipython",
    "version": 3
   },
   "file_extension": ".py",
   "mimetype": "text/x-python",
   "name": "python",
   "nbconvert_exporter": "python",
   "pygments_lexer": "ipython3",
   "version": "3.8.8"
  }
 },
 "nbformat": 4,
 "nbformat_minor": 5
}
